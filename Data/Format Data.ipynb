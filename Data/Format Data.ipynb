{
 "cells": [
  {
   "cell_type": "markdown",
   "id": "0eb2b0d7",
   "metadata": {},
   "source": [
    "## Imports"
   ]
  },
  {
   "cell_type": "code",
   "execution_count": 1,
   "id": "14972e3e",
   "metadata": {},
   "outputs": [],
   "source": [
    "import numpy as np # linear algebra\n",
    "import pandas as pd # data processing, CSV file I/O (e.g. pd.read_csv)"
   ]
  },
  {
   "cell_type": "markdown",
   "id": "682fba20",
   "metadata": {},
   "source": [
    "## Read Data"
   ]
  },
  {
   "cell_type": "code",
   "execution_count": 2,
   "id": "c0fcf806",
   "metadata": {},
   "outputs": [],
   "source": [
    "data = pd.read_csv('./ASA All PGA Raw Data - Tourn Level.csv')\n",
    "# data.info()\n",
    "masters = data[data['tournament name'] == 'Masters Tournament']\n",
    "masters = masters[masters['season'] == 2022]\n",
    "\n",
    "pga_champ = data[data['tournament name'] == 'PGA Championship']\n",
    "pga_champ = pga_champ[pga_champ['season'] == 2022]\n",
    "\n",
    "us_open = data[data['tournament name'] == 'U.S. Open']\n",
    "us_open = us_open[us_open['season'] == 2021]\n",
    "\n",
    "wm_open = data[data['tournament name'] == 'Waste Management Phoenix Open']\n",
    "wm_open = wm_open[wm_open['season'] == 2022]\n"
   ]
  },
  {
   "cell_type": "markdown",
   "id": "a760f784",
   "metadata": {},
   "source": [
    "## Clean Data\n",
    "\n",
    "Get rid of all rows and columns that have null values "
   ]
  },
  {
   "cell_type": "code",
   "execution_count": 3,
   "id": "e4f7819d",
   "metadata": {},
   "outputs": [],
   "source": [
    "data.drop(columns = ['Unnamed: 2', 'Unnamed: 3', 'Unnamed: 4', 'pos',\n",
    "                     'tournament name', 'course', 'purse', 'tournament id',\n",
    "                     'player id', 'date', 'made_cut', 'no_cut', 'player', 'season',\n",
    "                     'Player_initial_last'], inplace=True)\n",
    "\n",
    "masters.drop(columns = ['Unnamed: 2', 'Unnamed: 3', 'Unnamed: 4', 'pos',\n",
    "                     'tournament name', 'course', 'purse', 'tournament id',\n",
    "                     'player id', 'date', 'made_cut', 'no_cut', 'player', 'season',\n",
    "                     'Player_initial_last'], inplace=True)\n",
    "\n",
    "pga_champ.drop(columns = ['Unnamed: 2', 'Unnamed: 3', 'Unnamed: 4', 'pos',\n",
    "                     'tournament name', 'course', 'purse', 'tournament id',\n",
    "                     'player id', 'date', 'made_cut', 'no_cut', 'player', 'season',\n",
    "                     'Player_initial_last'], inplace=True)\n",
    "\n",
    "us_open.drop(columns = ['Unnamed: 2', 'Unnamed: 3', 'Unnamed: 4', 'pos',\n",
    "                     'tournament name', 'course', 'purse', 'tournament id',\n",
    "                     'player id', 'date', 'made_cut', 'no_cut', 'player', 'season',\n",
    "                     'Player_initial_last'], inplace=True)\n",
    "\n",
    "wm_open.drop(columns = ['Unnamed: 2', 'Unnamed: 3', 'Unnamed: 4', 'pos',\n",
    "                     'tournament name', 'course', 'purse', 'tournament id',\n",
    "                     'player id', 'date', 'made_cut', 'no_cut', 'player', 'season',\n",
    "                     'Player_initial_last'], inplace=True)"
   ]
  },
  {
   "cell_type": "code",
   "execution_count": 4,
   "id": "2ee91be9",
   "metadata": {},
   "outputs": [],
   "source": [
    "data.replace('Nan',np.nan, inplace = True)\n",
    "data.dropna(axis = 0, inplace = True)\n",
    "\n",
    "masters.replace('Nan',np.nan, inplace = True)\n",
    "masters.dropna(axis = 0, inplace = True)\n",
    "\n",
    "pga_champ.replace('Nan',np.nan, inplace = True)\n",
    "pga_champ.dropna(axis = 0, inplace = True)\n",
    "\n",
    "us_open.replace('Nan',np.nan, inplace = True)\n",
    "us_open.dropna(axis = 0, inplace = True)\n",
    "\n",
    "wm_open.replace('Nan',np.nan, inplace = True)\n",
    "wm_open.dropna(axis = 0, inplace = True)"
   ]
  },
  {
   "cell_type": "markdown",
   "id": "c307d48a",
   "metadata": {},
   "source": [
    "### Drop Non-Finishes\n",
    "Drop all rows that do no contain a finish. This includes not making the cut, withdrawing, making the cut but not finishing, and being disqualified.\n",
    "\n",
    "Then get rid of the T in 'Finish' data points. T32 represents tying for 32nd place. 'T' will cause errors when casting to integers."
   ]
  },
  {
   "cell_type": "code",
   "execution_count": 6,
   "id": "531c6bc7",
   "metadata": {},
   "outputs": [],
   "source": [
    "data.drop(data[data['Finish'] == 'CUT'].index, inplace = True)\n",
    "data.drop(data[data['Finish'] == 'WD'].index, inplace = True)\n",
    "data.drop(data[data['Finish'] == 'W/D'].index, inplace = True)\n",
    "data.drop(data[data['Finish'] == 'MDF'].index, inplace = True)\n",
    "data.drop(data[data['Finish'] == 'DQ'].index, inplace = True)\n",
    "\n",
    "masters.drop(masters[masters['Finish'] == 'CUT'].index, inplace = True)\n",
    "masters.drop(masters[masters['Finish'] == 'WD'].index, inplace = True)\n",
    "masters.drop(masters[masters['Finish'] == 'W/D'].index, inplace = True)\n",
    "masters.drop(masters[masters['Finish'] == 'MDF'].index, inplace = True)\n",
    "masters.drop(masters[masters['Finish'] == 'DQ'].index, inplace = True)\n",
    "\n",
    "pga_champ.drop(pga_champ[pga_champ['Finish'] == 'CUT'].index, inplace = True)\n",
    "pga_champ.drop(pga_champ[pga_champ['Finish'] == 'WD'].index, inplace = True)\n",
    "pga_champ.drop(pga_champ[pga_champ['Finish'] == 'W/D'].index, inplace = True)\n",
    "pga_champ.drop(pga_champ[pga_champ['Finish'] == 'MDF'].index, inplace = True)\n",
    "pga_champ.drop(pga_champ[pga_champ['Finish'] == 'DQ'].index, inplace = True)\n",
    "\n",
    "us_open.drop(us_open[us_open['Finish'] == 'CUT'].index, inplace = True)\n",
    "us_open.drop(us_open[us_open['Finish'] == 'WD'].index, inplace = True)\n",
    "us_open.drop(us_open[us_open['Finish'] == 'W/D'].index, inplace = True)\n",
    "us_open.drop(us_open[us_open['Finish'] == 'MDF'].index, inplace = True)\n",
    "us_open.drop(us_open[us_open['Finish'] == 'DQ'].index, inplace = True)\n",
    "\n",
    "wm_open.drop(wm_open[wm_open['Finish'] == 'CUT'].index, inplace = True)\n",
    "wm_open.drop(wm_open[wm_open['Finish'] == 'WD'].index, inplace = True)\n",
    "wm_open.drop(wm_open[wm_open['Finish'] == 'W/D'].index, inplace = True)\n",
    "wm_open.drop(wm_open[wm_open['Finish'] == 'MDF'].index, inplace = True)\n",
    "wm_open.drop(wm_open[wm_open['Finish'] == 'DQ'].index, inplace = True)"
   ]
  },
  {
   "cell_type": "code",
   "execution_count": 7,
   "id": "6acaa17c",
   "metadata": {},
   "outputs": [],
   "source": [
    "data['Finish'] = data['Finish'].str.replace('T', '')\n",
    "\n",
    "masters['Finish'] = masters['Finish'].str.replace('T', '')\n",
    "pga_champ['Finish'] = pga_champ['Finish'].str.replace('T', '')\n",
    "us_open['Finish'] = us_open['Finish'].str.replace('T', '')\n",
    "wm_open['Finish'] = wm_open['Finish'].str.replace('T', '')"
   ]
  },
  {
   "cell_type": "code",
   "execution_count": 8,
   "id": "46396892",
   "metadata": {},
   "outputs": [],
   "source": [
    "data['Finish'] = data['Finish'].astype(int)\n",
    "\n",
    "masters['Finish'] = masters['Finish'].astype(int)\n",
    "pga_champ['Finish'] = pga_champ['Finish'].astype(int)\n",
    "us_open['Finish'] = us_open['Finish'].astype(int)\n",
    "wm_open['Finish'] = wm_open['Finish'].astype(int)"
   ]
  },
  {
   "cell_type": "markdown",
   "id": "fe565845",
   "metadata": {},
   "source": [
    "### Categorize Finish Positions for Classification\n",
    "- Top 10 -> 1\n",
    "- Top 20 -> 2\n",
    "- Top 30 -> 3\n",
    "- Top 40 -> 4\n",
    "- Less -> 5"
   ]
  },
  {
   "cell_type": "code",
   "execution_count": 9,
   "id": "e80958ec",
   "metadata": {},
   "outputs": [],
   "source": [
    "def replace_values(val):\n",
    "    if val >=1 and val <=10:\n",
    "        return 1\n",
    "    elif val >=11 and val <=20:\n",
    "        return 2\n",
    "    elif val >=21 and val <=30:\n",
    "        return 3\n",
    "    elif val >=31 and val <=40:\n",
    "        return 4\n",
    "    elif val >=41 and val <= 50:\n",
    "        return 5\n",
    "    else:\n",
    "        return 6"
   ]
  },
  {
   "cell_type": "code",
   "execution_count": 10,
   "id": "cce4c6e6",
   "metadata": {},
   "outputs": [],
   "source": [
    "data = data[[col for col in data.columns if col != 'Finish'] + ['Finish']]\n",
    "\n",
    "masters = masters[[col for col in masters.columns if col != 'Finish'] + ['Finish']]\n",
    "pga_champ = pga_champ[[col for col in pga_champ.columns if col != 'Finish'] + ['Finish']]\n",
    "us_open = us_open[[col for col in us_open.columns if col != 'Finish'] + ['Finish']]\n",
    "wm_open = wm_open[[col for col in wm_open.columns if col != 'Finish'] + ['Finish']]"
   ]
  },
  {
   "cell_type": "markdown",
   "id": "48b36877",
   "metadata": {},
   "source": [
    "## Output to CSV\n",
    "Create an output file with original final position finishes left as is (without T).\n",
    "\n",
    "Then encode the final positions into nominal ranges to be used in predicition model and output to seperate file."
   ]
  },
  {
   "cell_type": "code",
   "execution_count": 11,
   "id": "f3089499",
   "metadata": {},
   "outputs": [],
   "source": [
    "data.to_csv('./PGA_Data.csv')"
   ]
  },
  {
   "cell_type": "code",
   "execution_count": 12,
   "id": "3cdd7dfc",
   "metadata": {},
   "outputs": [],
   "source": [
    "data['Finish'] = data['Finish'].apply(replace_values) \n",
    "data.to_csv('./PGA_Data_Finish_Encoded.csv')\n",
    "\n",
    "masters['Finish'] = masters['Finish'].apply(replace_values) \n",
    "masters.to_csv('./2022_Masters_Finish_Encoded.csv')\n",
    "\n",
    "pga_champ['Finish'] = pga_champ['Finish'].apply(replace_values) \n",
    "pga_champ.to_csv('./2022_PGA_Championship_Finish_Encoded.csv')\n",
    "\n",
    "us_open['Finish'] = us_open['Finish'].apply(replace_values) \n",
    "us_open.to_csv('./2021_US_Open_Finish_Encoded.csv')\n",
    "\n",
    "wm_open['Finish'] = wm_open['Finish'].apply(replace_values) \n",
    "wm_open.to_csv('./2022_WM_Open_Finish_Encoded.csv')"
   ]
  },
  {
   "cell_type": "markdown",
   "id": "56dd5f88",
   "metadata": {},
   "source": [
    "After outputting to CSV file, pandas automatically adds an ID column at the beginning of the data. Manually remove column A so all other columns shift left. This will prevent the index out of bounds error.\n",
    "\n",
    "Open the CSV file in WEKA explorer. Save the CSV file as a new ARFF file. Then run the NumerictoNominal unsupervised filter on the \"Finish\" attribute to be able to run more classifiers."
   ]
  },
  {
   "cell_type": "code",
   "execution_count": null,
   "id": "0eaf35c1",
   "metadata": {},
   "outputs": [],
   "source": []
  }
 ],
 "metadata": {
  "kernelspec": {
   "display_name": "Python 3 (ipykernel)",
   "language": "python",
   "name": "python3"
  },
  "language_info": {
   "codemirror_mode": {
    "name": "ipython",
    "version": 3
   },
   "file_extension": ".py",
   "mimetype": "text/x-python",
   "name": "python",
   "nbconvert_exporter": "python",
   "pygments_lexer": "ipython3",
   "version": "3.7.13"
  }
 },
 "nbformat": 4,
 "nbformat_minor": 5
}
